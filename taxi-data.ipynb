{
 "cells": [
  {
   "cell_type": "markdown",
   "metadata": {},
   "source": [
    "# Playing with Spark and Taxi Data"
   ]
  },
  {
   "cell_type": "markdown",
   "metadata": {},
   "source": [
    "## Configure our Spark Session"
   ]
  },
  {
   "cell_type": "code",
   "execution_count": 2,
   "metadata": {},
   "outputs": [],
   "source": [
    "// Import GeoSpark Stuff\n",
    "import org.datasyslab.geosparksql.utils.GeoSparkSQLRegistrator\n",
    "import org.datasyslab.geosparksql.utils.Adapter\n",
    "import org.datasyslab.geosparksql.UDF.UdfRegistrator\n",
    "import org.datasyslab.geosparksql.UDT.UdtRegistrator\n",
    "import org.datasyslab.geospark.serde.GeoSparkKryoRegistrator\n",
    "import org.apache.spark.sql.geosparksql.strategy.join.JoinQueryDetector\n",
    "\n",
    "// Import SparkStuff\n",
    "import org.apache.spark.serializer.KryoSerializer\n",
    "import org.apache.spark.sql.functions._"
   ]
  },
  {
   "cell_type": "code",
   "execution_count": 3,
   "metadata": {},
   "outputs": [
    {
     "data": {
      "text/plain": [
       "spark = org.apache.spark.sql.SparkSession@1dfb062f\n"
      ]
     },
     "metadata": {},
     "output_type": "display_data"
    },
    {
     "data": {
      "text/plain": [
       "org.apache.spark.sql.SparkSession@1dfb062f"
      ]
     },
     "execution_count": 3,
     "metadata": {},
     "output_type": "execute_result"
    }
   ],
   "source": [
    "var spark = SparkSession\n",
    "  .builder\n",
    "  .appName(\"NYCTaxis\")\n",
    "  .config(\"spark.serializer\", classOf[KryoSerializer].getName)\n",
    "  .config(\"spark.kryo.registrator\", classOf[GeoSparkKryoRegistrator].getName)\n",
    "  .enableHiveSupport\n",
    "  .getOrCreate()\n",
    "GeoSparkSQLRegistrator.registerAll(spark)"
   ]
  },
  {
   "cell_type": "markdown",
   "metadata": {},
   "source": [
    "## Get Taxi Data "
   ]
  },
  {
   "cell_type": "markdown",
   "metadata": {},
   "source": [
    "The taxi data is a part of Amazon's open datasets so we can just use their bucket location. For now I will only inspect 2017 datasets."
   ]
  },
  {
   "cell_type": "code",
   "execution_count": 5,
   "metadata": {},
   "outputs": [
    {
     "data": {
      "text/plain": [
       "tripData = [VendorID: string, tpep_pickup_datetime: string ... 15 more fields]\n"
      ]
     },
     "metadata": {},
     "output_type": "display_data"
    },
    {
     "data": {
      "text/plain": [
       "[VendorID: string, tpep_pickup_datetime: string ... 15 more fields]"
      ]
     },
     "execution_count": 5,
     "metadata": {},
     "output_type": "execute_result"
    }
   ],
   "source": [
    "val tripData = spark\n",
    "    .read\n",
    "    .option(\"header\", \"true\")\n",
    "    .csv(\"s3://nyc-tlc/trip data/yellow_tripdata_2017-*.csv\")"
   ]
  },
  {
   "cell_type": "code",
   "execution_count": 6,
   "metadata": {},
   "outputs": [
    {
     "data": {
      "text/html": [
       "<table><tr><th>VendorID</th><th>tpep_pickup_datetime</th><th>tpep_dropoff_datetime</th><th>passenger_count</th><th>trip_distance</th><th>RatecodeID</th><th>store_and_fwd_flag</th><th>PULocationID</th><th>DOLocationID</th><th>payment_type</th><th>fare_amount</th><th>extra</th><th>mta_tax</th><th>tip_amount</th><th>tolls_amount</th><th>improvement_surcharge</th><th>total_amount</th></tr><tr><td>1</td><td>2017-01-09 11:13:28</td><td>2017-01-09 11:25:45</td><td>1</td><td>3.30</td><td>1</td><td>N</td><td>263</td><td>161</td><td>1</td><td>12.5</td><td>0</td><td>0.5</td><td>2</td><td>0</td><td>0.3</td><td>15.3</td></tr><tr><td>1</td><td>2017-01-09 11:32:27</td><td>2017-01-09 11:36:01</td><td>1</td><td>.90</td><td>1</td><td>N</td><td>186</td><td>234</td><td>1</td><td>5</td><td>0</td><td>0.5</td><td>1.45</td><td>0</td><td>0.3</td><td>7.25</td></tr><tr><td>1</td><td>2017-01-09 11:38:20</td><td>2017-01-09 11:42:05</td><td>1</td><td>1.10</td><td>1</td><td>N</td><td>164</td><td>161</td><td>1</td><td>5.5</td><td>0</td><td>0.5</td><td>1</td><td>0</td><td>0.3</td><td>7.3</td></tr><tr><td>1</td><td>2017-01-09 11:52:13</td><td>2017-01-09 11:57:36</td><td>1</td><td>1.10</td><td>1</td><td>N</td><td>236</td><td>75</td><td>1</td><td>6</td><td>0</td><td>0.5</td><td>1.7</td><td>0</td><td>0.3</td><td>8.5</td></tr><tr><td>2</td><td>2017-01-01 00:00:00</td><td>2017-01-01 00:00:00</td><td>1</td><td>.02</td><td>2</td><td>N</td><td>249</td><td>234</td><td>2</td><td>52</td><td>0</td><td>0.5</td><td>0</td><td>0</td><td>0.3</td><td>52.8</td></tr><tr><td>1</td><td>2017-01-01 00:00:02</td><td>2017-01-01 00:03:50</td><td>1</td><td>.50</td><td>1</td><td>N</td><td>48</td><td>48</td><td>2</td><td>4</td><td>0.5</td><td>0.5</td><td>0</td><td>0</td><td>0.3</td><td>5.3</td></tr><tr><td>2</td><td>2017-01-01 00:00:02</td><td>2017-01-01 00:39:22</td><td>4</td><td>7.75</td><td>1</td><td>N</td><td>186</td><td>36</td><td>1</td><td>22</td><td>0.5</td><td>0.5</td><td>4.66</td><td>0</td><td>0.3</td><td>27.96</td></tr><tr><td>1</td><td>2017-01-01 00:00:03</td><td>2017-01-01 00:06:58</td><td>1</td><td>.80</td><td>1</td><td>N</td><td>162</td><td>161</td><td>1</td><td>6</td><td>0.5</td><td>0.5</td><td>1.45</td><td>0</td><td>0.3</td><td>8.75</td></tr><tr><td>1</td><td>2017-01-01 00:00:05</td><td>2017-01-01 00:08:33</td><td>2</td><td>.90</td><td>1</td><td>N</td><td>48</td><td>50</td><td>1</td><td>7</td><td>0.5</td><td>0.5</td><td>0</td><td>0</td><td>0.3</td><td>8.3</td></tr><tr><td>2</td><td>2017-01-01 00:00:05</td><td>2017-01-01 00:05:04</td><td>5</td><td>1.76</td><td>1</td><td>N</td><td>140</td><td>74</td><td>2</td><td>7</td><td>0.5</td><td>0.5</td><td>0</td><td>0</td><td>0.3</td><td>8.3</td></tr></table>"
      ]
     },
     "execution_count": 6,
     "metadata": {},
     "output_type": "execute_result"
    }
   ],
   "source": [
    "%%dataframe\n",
    "tripData"
   ]
  },
  {
   "cell_type": "code",
   "execution_count": 7,
   "metadata": {
    "scrolled": true
   },
   "outputs": [
    {
     "data": {
      "text/plain": [
       "tripMonths = [tpep_pickup_datetime: string, tripMonth: int]\n"
      ]
     },
     "metadata": {},
     "output_type": "display_data"
    },
    {
     "data": {
      "text/plain": [
       "[tpep_pickup_datetime: string, tripMonth: int]"
      ]
     },
     "execution_count": 7,
     "metadata": {},
     "output_type": "execute_result"
    }
   ],
   "source": [
    "val tripMonths = tripData\n",
    "    .select($\"tpep_pickup_datetime\")\n",
    "    .withColumn(\"tripMonth\", month($\"tpep_pickup_datetime\"))"
   ]
  },
  {
   "cell_type": "markdown",
   "metadata": {},
   "source": [
    "I've always been curious as which months are the busiest for taxis and ubers, and now I can an idea from the taxi data."
   ]
  },
  {
   "cell_type": "code",
   "execution_count": 8,
   "metadata": {},
   "outputs": [
    {
     "data": {
      "text/html": [
       "<table><tr><th>tripMonth</th><th>count</th></tr><tr><td>3</td><td>10294633</td></tr><tr><td>5</td><td>10102128</td></tr><tr><td>4</td><td>10046197</td></tr><tr><td>10</td><td>9768740</td></tr><tr><td>1</td><td>9710231</td></tr><tr><td>6</td><td>9656993</td></tr><tr><td>12</td><td>9508086</td></tr><tr><td>11</td><td>9284778</td></tr><tr><td>2</td><td>9168831</td></tr><tr><td>9</td><td>8945574</td></tr><tr><td>7</td><td>8588486</td></tr><tr><td>8</td><td>8422197</td></tr></table>"
      ]
     },
     "execution_count": 8,
     "metadata": {},
     "output_type": "execute_result"
    }
   ],
   "source": [
    "%%dataframe --limit 12\n",
    "tripMonths.groupBy($\"tripMonth\").count.sort($\"count\".desc)"
   ]
  },
  {
   "cell_type": "markdown",
   "metadata": {},
   "source": [
    "OK, now let's get location data to find the busiest zone. I download the GeoJSON file from [here](https://data.cityofnewyork.us/Transportation/NYC-Taxi-Zones/d3c5-ddgc)."
   ]
  },
  {
   "cell_type": "code",
   "execution_count": 9,
   "metadata": {},
   "outputs": [
    {
     "data": {
      "text/plain": [
       "jsonFile = [features: array<struct<geometry:struct<coordinates:array<array<array<array<double>>>>,type:string>,properties:struct<borough:string,location_id:string,objectid:string,shape_area:string,shape_leng:string,zone:string>,type:string>>, type: string]\n"
      ]
     },
     "metadata": {},
     "output_type": "display_data"
    },
    {
     "data": {
      "text/plain": [
       "[features: array<struct<geometry:struct<coordinates:array<array<array<array<double>>>>,type:string>,properties:struct<borough:string,location_id:string,objectid:string,shape_area:string,shape_leng:string,zone:string>,type:string>>, type: string]"
      ]
     },
     "execution_count": 9,
     "metadata": {},
     "output_type": "execute_result"
    }
   ],
   "source": [
    "val jsonFile = spark\n",
    "    .read\n",
    "    .option(\"multiline\",true)\n",
    "    .json(\"s3://jamie-curtis/datasets/NYC Taxi Zones.geojson\")"
   ]
  },
  {
   "cell_type": "code",
   "execution_count": 10,
   "metadata": {},
   "outputs": [
    {
     "name": "stdout",
     "output_type": "stream",
     "text": [
      "root\n",
      " |-- features: array (nullable = true)\n",
      " |    |-- element: struct (containsNull = true)\n",
      " |    |    |-- geometry: struct (nullable = true)\n",
      " |    |    |    |-- coordinates: array (nullable = true)\n",
      " |    |    |    |    |-- element: array (containsNull = true)\n",
      " |    |    |    |    |    |-- element: array (containsNull = true)\n",
      " |    |    |    |    |    |    |-- element: array (containsNull = true)\n",
      " |    |    |    |    |    |    |    |-- element: double (containsNull = true)\n",
      " |    |    |    |-- type: string (nullable = true)\n",
      " |    |    |-- properties: struct (nullable = true)\n",
      " |    |    |    |-- borough: string (nullable = true)\n",
      " |    |    |    |-- location_id: string (nullable = true)\n",
      " |    |    |    |-- objectid: string (nullable = true)\n",
      " |    |    |    |-- shape_area: string (nullable = true)\n",
      " |    |    |    |-- shape_leng: string (nullable = true)\n",
      " |    |    |    |-- zone: string (nullable = true)\n",
      " |    |    |-- type: string (nullable = true)\n",
      " |-- type: string (nullable = true)\n",
      "\n"
     ]
    }
   ],
   "source": [
    "jsonFile.printSchema"
   ]
  },
  {
   "cell_type": "code",
   "execution_count": 11,
   "metadata": {},
   "outputs": [
    {
     "data": {
      "text/plain": [
       "locationDS = [type: string, borough: string ... 6 more fields]\n"
      ]
     },
     "metadata": {},
     "output_type": "display_data"
    },
    {
     "data": {
      "text/plain": [
       "[type: string, borough: string ... 6 more fields]"
      ]
     },
     "execution_count": 11,
     "metadata": {},
     "output_type": "execute_result"
    }
   ],
   "source": [
    "val locationDS = jsonFile\n",
    "    .select(explode($\"features\").as(\"f\"))\n",
    "    .select($\"f.geometry.type\"\n",
    "           ,$\"f.properties.*\"\n",
    "           ,callUDF(\"ST_GeomFromGeoJson\", to_json($\"f.geometry\")).as(\"geom_spark\"))"
   ]
  },
  {
   "cell_type": "code",
   "execution_count": 13,
   "metadata": {},
   "outputs": [
    {
     "data": {
      "text/html": [
       "<table><tr><th>type</th><th>borough</th><th>location_id</th><th>objectid</th><th>shape_area</th><th>shape_leng</th><th>zone</th><th>geom_spark</th></tr><tr><td>MultiPolygon</td><td>EWR</td><td>1</td><td>1</td><td>0.0007823067885</td><td>0.116357453189</td><td>Newark Airport</td><td>POLYGON ((-74.18445299999996 40.694995999999904, -74.18448899999999 40.69509499999987, -74.18449799999996 40.69518499999987, -74.18438099999997 40.69587799999989, -74.18428199999994 40.6962109999999, -74.18402099999997 40.697074999999884, -74.18391299999996 40.69750699999986, -74.18375099999997 40.69779499999988, -74.18363399999998 40.6983259999999, -74.18356199999994 40.698451999999875, -74.18354399999998 40.69855999999988, -74.18350799999996 40.69870399999992, -74.18327399999998 40.70008999999988, -74.18315699999994 40.701214999999884, -74.18316599999997 40.702384999999886, -74.18313899999998 40.7026279999999, -74.18309399999998 40.7028529999999, -74.18299499999995 40.70315899999985, -74.18284199999994 40.70346499999989, -74.18264399999998 40.70373499999988, -74.18242799999996 40.70395099999992, -74.18220299999996 40.704139999999896, -74.18203199999994 40.70425699999987, -74.18180699999994 40.7043919999999, -74.18157299999996 40.70449999999988, -74.18132099999997 40.70460799999991, -74.18080799999996 40.7047879999999, -74.179467 40.70534599999992, -74.17887299999995 40.70554399999987, -74.17831499999994 40.70572399999987, -74.17776599999996 40.70589499999988, -74.17709099999996 40.706092999999896, -74.17699199999998 40.70613799999988, -74.17689299999995 40.70619199999988, -74.17664999999994 40.70641699999988, -74.17642499999994 40.706695999999916, -74.17628999999994 40.70689399999988, -74.17608299999995 40.70710999999989, -74.17599299999995 40.70719099999991, -74.17589399999997 40.707262999999905, -74.17565999999994 40.70737999999988, -74.17538099999996 40.707469999999915, -74.17515599999996 40.707514999999894, -74.17475999999994 40.707595999999924, -74.17417499999993 40.70766799999991, -74.17388699999998 40.70773099999992, -74.17347299999994 40.707748999999865, -74.17275299999994 40.707802999999906, -74.17188899999996 40.707910999999854, -74.17163699999998 40.70795599999986, -74.17133999999999 40.707964999999895, -74.17120499999999 40.70795599999986, -74.16994499999998 40.707973999999886, -74.16888299999994 40.7079379999999, -74.16681299999993 40.70785699999989, -74.16442799999999 40.70779399999987, -74.16401399999995 40.70777599999992, -74.16233999999997 40.707721999999876, -74.16081899999995 40.70764099999991, -74.16057599999993 40.70760499999988, -74.16033299999998 40.70756899999987, -74.160063 40.7074879999999, -74.15938799999998 40.707262999999905, -74.15904599999999 40.707145999999916, -74.15891999999997 40.70710999999989, -74.15827199999995 40.70687599999993, -74.15459099999998 40.705651999999894, -74.15409599999998 40.70544499999989, -74.15401499999997 40.70538199999988, -74.15387999999996 40.705327999999895, -74.15376299999997 40.705408999999875, -74.15323199999995 40.70524699999987, -74.15317799999997 40.70531899999989, -74.15306999999996 40.7052829999999, -74.15359199999995 40.70437399999987, -74.15386199999995 40.7038429999999, -74.15513999999996 40.70155699999987, -74.15544599999998 40.70108899999988, -74.15575199999995 40.7006659999999, -74.15600399999994 40.70026099999991, -74.15635499999996 40.69975699999986, -74.15745299999998 40.69809199999988, -74.15754299999998 40.6979389999999, -74.15758799999998 40.69781299999988, -74.15762399999994 40.69767799999991, -74.15829899999994 40.696705999999885, -74.15951399999994 40.69488799999988, -74.15958599999993 40.69476199999984, -74.16014399999995 40.69410499999988, -74.16057599999993 40.693222999999875, -74.16262799999998 40.69028899999989, -74.16279899999995 40.69002799999989, -74.16290699999996 40.68987499999987, -74.16292499999997 40.689874999999866, -74.16295199999996 40.689874999999866, -74.16306899999995 40.68989299999988, -74.16309599999994 40.689928999999886, -74.16322199999996 40.68998299999989, -74.16331199999996 40.68999199999993, -74.16341099999994 40.69000099999988, -74.16352799999999 40.69000999999986, -74.16380699999996 40.69004599999989, -74.16410399999995 40.690081999999904, -74.16417599999994 40.690081999999904, -74.16422999999998 40.69005499999988, -74.16436499999998 40.69003699999991, -74.16450899999995 40.68998299999986, -74.16467099999994 40.68988399999989, -74.16479699999996 40.689757999999884, -74.16491399999995 40.689586999999904, -74.16499499999998 40.689388999999885, -74.16528299999999 40.68891199999991, -74.16542699999997 40.6887589999999, -74.16548099999994 40.68863299999987, -74.16560699999997 40.68842599999988, -74.16576899999995 40.68802999999986, -74.16587699999997 40.68787699999991, -74.16583199999997 40.68757999999987, -74.16582299999999 40.68748999999987, -74.16580499999998 40.687156999999914, -74.16582299999999 40.68703999999986, -74.16589499999998 40.6868419999999, -74.16604799999999 40.68655399999988, -74.16639899999996 40.686022999999864, -74.16650699999997 40.68588799999986, -74.16674099999994 40.685491999999925, -74.16695699999997 40.68523099999988, -74.16738899999996 40.684546999999924, -74.16781199999997 40.6839439999999, -74.16791099999995 40.68379099999988, -74.16804599999995 40.68360199999991, -74.16816299999994 40.683475999999885, -74.16822599999995 40.68334999999991, -74.16848699999997 40.68299899999991, -74.16886499999998 40.68239599999987, -74.16916199999997 40.68199999999991, -74.16929699999997 40.68178399999989, -74.16947699999997 40.68155899999991, -74.16981899999996 40.681018999999885, -74.16995399999996 40.680874999999915, -74.17005299999994 40.68066799999987, -74.17041299999994 40.6801549999999, -74.17051199999997 40.67999299999987, -74.17067399999996 40.679650999999886, -74.17093499999999 40.679290999999864, -74.17144799999994 40.67847199999989, -74.17151999999999 40.678381999999885, -74.17160999999999 40.678255999999884, -74.17193399999996 40.67782399999988, -74.17200599999995 40.67773399999988, -74.17283399999997 40.67656399999988, -74.17314899999997 40.67619499999991, -74.17322999999999 40.6760779999999, -74.17329299999994 40.67601499999989, -74.17358999999993 40.67571799999991, -74.17423799999995 40.67493499999991, -74.17437299999995 40.674817999999895, -74.17484999999994 40.67432299999992, -74.17500299999995 40.6741699999999, -74.17538999999995 40.67375599999987, -74.17604699999998 40.673044999999895, -74.17630799999995 40.67276599999986, -74.17641599999996 40.672621999999876, -74.17663199999998 40.67239699999989, -74.17678499999994 40.67218099999991, -74.17697399999997 40.6719379999999, -74.17709099999996 40.671784999999886, -74.17734299999995 40.67155999999988, -74.17754999999994 40.67142499999989, -74.17778399999997 40.671316999999874, -74.17802699999999 40.671208999999884, -74.17862999999994 40.671037999999896, -74.17888199999999 40.671001999999895, -74.17912499999994 40.67099299999991, -74.17933199999999 40.67101099999992, -74.17979099999997 40.67115499999989, -74.17997999999994 40.671208999999884, -74.18010599999997 40.671262999999904, -74.18030399999998 40.67129899999986, -74.18133899999998 40.67170399999986, -74.18213999999996 40.67202799999989, -74.18384999999995 40.672648999999886, -74.18437199999994 40.67290999999989, -74.18458799999996 40.67302699999988, -74.18492099999997 40.673269999999896, -74.18503799999996 40.67335999999989, -74.18513699999994 40.673458999999866, -74.18547899999999 40.67390899999987, -74.18594699999994 40.674664999999905, -74.18670299999997 40.67578999999992, -74.18733299999997 40.67674399999987, -74.18767499999996 40.67729299999991, -74.18795399999995 40.67761699999989, -74.18819699999995 40.67792299999992, -74.18852099999998 40.67848099999987, -74.18877299999997 40.67885899999989, -74.18905199999995 40.67933599999985, -74.18935799999997 40.67975899999988, -74.18949299999997 40.680091999999895, -74.18969999999996 40.680793999999885, -74.18977199999995 40.68113599999987, -74.189781 40.681198999999886, -74.18983499999996 40.68131599999987, -74.18991599999998 40.68154099999988, -74.18996999999996 40.6818019999999, -74.18999699999995 40.6822519999999, -74.18999699999995 40.68262999999992, -74.18996999999996 40.68295399999989, -74.18998799999997 40.68317899999989, -74.18995199999995 40.683520999999885, -74.18993399999994 40.68370999999992, -74.189871 40.684078999999876, -74.189781 40.68481699999991, -74.18976299999997 40.68503299999986, -74.18962799999997 40.686103999999915, -74.18955599999998 40.68689599999987, -74.18951999999996 40.6872019999999, -74.18947499999996 40.68748999999985, -74.18939399999994 40.68773299999988, -74.18939399999994 40.68783199999991, -74.18941199999995 40.687939999999855, -74.18940299999997 40.68809299999987, -74.18934899999994 40.68826399999989, -74.18922299999997 40.68862399999989, -74.18898899999994 40.68904699999991, -74.18870099999998 40.689442999999876, -74.18779199999994 40.690189999999866, -74.18723399999999 40.69059499999986, -74.18636999999995 40.69118899999991, -74.18591099999998 40.69144999999988, -74.18563199999994 40.69164799999987, -74.18445299999996 40.694995999999904))</td></tr></table>"
      ]
     },
     "execution_count": 13,
     "metadata": {},
     "output_type": "execute_result"
    }
   ],
   "source": [
    "%%dataframe --limit 1\n",
    "locationDS"
   ]
  },
  {
   "cell_type": "code",
   "execution_count": 14,
   "metadata": {},
   "outputs": [
    {
     "data": {
      "text/plain": [
       "tripLocations = [VendorID: string, tpep_pickup_datetime: string ... 17 more fields]\n"
      ]
     },
     "metadata": {},
     "output_type": "display_data"
    },
    {
     "data": {
      "text/plain": [
       "[VendorID: string, tpep_pickup_datetime: string ... 17 more fields]"
      ]
     },
     "execution_count": 14,
     "metadata": {},
     "output_type": "execute_result"
    }
   ],
   "source": [
    "val tripLocations = tripData\n",
    "    .join(locationDS.select($\"location_id\", $\"zone\".as(\"pick_up_zone\"))\n",
    "         , $\"PULocationID\" === $\"location_id\"\n",
    "         , \"inner\").drop($\"location_id\")\n",
    "    .join(locationDS.select($\"location_id\", $\"zone\".as(\"drop_off_zone\"))\n",
    "         , $\"DOLocationID\" === $\"location_id\"\n",
    "         , \"inner\").drop($\"location_id\")"
   ]
  },
  {
   "cell_type": "markdown",
   "metadata": {},
   "source": [
    "OK, let's see the 10 most popular pick up locations"
   ]
  },
  {
   "cell_type": "code",
   "execution_count": 15,
   "metadata": {},
   "outputs": [
    {
     "data": {
      "text/html": [
       "<table><tr><th>pick_up_zone</th><th>count</th></tr><tr><td>Upper East Side South</td><td>4437101</td></tr><tr><td>Midtown Center</td><td>4264964</td></tr><tr><td>Upper East Side North</td><td>4019431</td></tr><tr><td>Penn Station/Madison Sq West</td><td>3962805</td></tr><tr><td>Midtown East</td><td>3856212</td></tr><tr><td>Times Sq/Theatre District</td><td>3830469</td></tr><tr><td>Union Sq</td><td>3696889</td></tr><tr><td>Murray Hill</td><td>3625208</td></tr><tr><td>Clinton East</td><td>3555159</td></tr><tr><td>East Village</td><td>3322177</td></tr></table>"
      ]
     },
     "execution_count": 15,
     "metadata": {},
     "output_type": "execute_result"
    }
   ],
   "source": [
    "%%dataframe\n",
    "tripLocations.groupBy(\"pick_up_zone\").count.sort($\"count\".desc)"
   ]
  },
  {
   "cell_type": "code",
   "execution_count": 16,
   "metadata": {},
   "outputs": [
    {
     "data": {
      "text/html": [
       "<table><tr><th>drop_off_zone</th><th>count</th></tr><tr><td>Midtown Center</td><td>4187572</td></tr><tr><td>Upper East Side North</td><td>4142175</td></tr><tr><td>Upper East Side South</td><td>3899475</td></tr><tr><td>Murray Hill</td><td>3610257</td></tr><tr><td>Times Sq/Theatre District</td><td>3512881</td></tr><tr><td>Midtown East</td><td>3442198</td></tr><tr><td>Union Sq</td><td>3164130</td></tr><tr><td>Penn Station/Madison Sq West</td><td>3082515</td></tr><tr><td>Clinton East</td><td>3067502</td></tr><tr><td>Lincoln Square East</td><td>2923849</td></tr></table>"
      ]
     },
     "execution_count": 16,
     "metadata": {},
     "output_type": "execute_result"
    }
   ],
   "source": [
    "%%dataframe\n",
    "tripLocations.groupBy(\"drop_off_zone\").count.sort($\"count\".desc)"
   ]
  },
  {
   "cell_type": "markdown",
   "metadata": {},
   "source": [
    "OK, what was the average tip in 2017."
   ]
  },
  {
   "cell_type": "code",
   "execution_count": 17,
   "metadata": {},
   "outputs": [
    {
     "name": "stdout",
     "output_type": "stream",
     "text": [
      "+-----------------+\n",
      "|   avg_tip_amount|\n",
      "+-----------------+\n",
      "|1.837307255792978|\n",
      "+-----------------+\n",
      "\n"
     ]
    }
   ],
   "source": [
    "tripData.select(mean($\"tip_amount\").as(\"avg_tip_amount\")).show"
   ]
  },
  {
   "cell_type": "code",
   "execution_count": 18,
   "metadata": {},
   "outputs": [
    {
     "name": "stdout",
     "output_type": "stream",
     "text": [
      "+------------+--------------------+\n",
      "|payment_type|      avg_tip_amount|\n",
      "+------------+--------------------+\n",
      "|           1|   2.735025633448391|\n",
      "|           2|2.809800210321084...|\n",
      "|           5|                 0.0|\n",
      "|           3|-0.00148715945382395|\n",
      "|           4|-0.00442512393655...|\n",
      "+------------+--------------------+\n",
      "\n"
     ]
    }
   ],
   "source": [
    "tripData.groupBy($\"payment_type\").agg(mean($\"tip_amount\").as(\"avg_tip_amount\")).sort($\"avg_tip_amount\".desc).show"
   ]
  },
  {
   "cell_type": "markdown",
   "metadata": {},
   "source": [
    "How about if we filter out people who don't tip?"
   ]
  },
  {
   "cell_type": "code",
   "execution_count": 19,
   "metadata": {},
   "outputs": [
    {
     "name": "stdout",
     "output_type": "stream",
     "text": [
      "+------------------+\n",
      "|    avg_tip_amount|\n",
      "+------------------+\n",
      "|2.9334217641378317|\n",
      "+------------------+\n",
      "\n"
     ]
    }
   ],
   "source": [
    "tripData.where($\"tip_amount\" > 0).select(mean($\"tip_amount\").as(\"avg_tip_amount\")).show"
   ]
  },
  {
   "cell_type": "markdown",
   "metadata": {},
   "source": [
    "OK, what percentage of rides actually result in a tip?"
   ]
  },
  {
   "cell_type": "code",
   "execution_count": 20,
   "metadata": {},
   "outputs": [
    {
     "name": "stdout",
     "output_type": "stream",
     "text": [
      "+------+--------+-------------------+\n",
      "| tiped|   count|               freq|\n",
      "+------+--------+-------------------+\n",
      "|   Tip|70466546| 0.6208677253965602|\n",
      "|No Tip|43030328|0.37913227460343973|\n",
      "+------+--------+-------------------+\n",
      "\n"
     ]
    },
    {
     "data": {
      "text/plain": [
       "nRides = 113496874\n"
      ]
     },
     "metadata": {},
     "output_type": "display_data"
    },
    {
     "data": {
      "text/plain": [
       "113496874"
      ]
     },
     "execution_count": 20,
     "metadata": {},
     "output_type": "execute_result"
    }
   ],
   "source": [
    "val nRides = tripData.count\n",
    "tripData\n",
    "  .withColumn(\"tiped\", when($\"tip_amount\" <= 0, \"No Tip\").otherwise(\"Tip\"))\n",
    "  .groupBy($\"tiped\")\n",
    "  .count\n",
    "  .withColumn(\"freq\", $\"count\"/nRides)\n",
    "  .show"
   ]
  },
  {
   "cell_type": "code",
   "execution_count": 21,
   "metadata": {},
   "outputs": [
    {
     "name": "stdout",
     "output_type": "stream",
     "text": [
      "+------------+\n",
      "|databaseName|\n",
      "+------------+\n",
      "|     default|\n",
      "|   num_facts|\n",
      "+------------+\n",
      "\n"
     ]
    }
   ],
   "source": [
    "spark.sql(\"show databases\").show"
   ]
  },
  {
   "cell_type": "code",
   "execution_count": null,
   "metadata": {},
   "outputs": [],
   "source": []
  }
 ],
 "metadata": {
  "kernelspec": {
   "display_name": "Apache Toree - Scala",
   "language": "scala",
   "name": "apache_toree_scala"
  },
  "language_info": {
   "codemirror_mode": "text/x-scala",
   "file_extension": ".scala",
   "mimetype": "text/x-scala",
   "name": "scala",
   "pygments_lexer": "scala",
   "version": "2.11.12"
  }
 },
 "nbformat": 4,
 "nbformat_minor": 2
}
